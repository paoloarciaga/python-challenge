{
 "cells": [
  {
   "cell_type": "code",
   "execution_count": 1,
   "id": "6b0c7fd8-925c-47e2-92e6-480564f14046",
   "metadata": {
    "tags": []
   },
   "outputs": [],
   "source": [
    "# Import modules os and csv\n",
    "\n",
    "import os\n",
    "import csv"
   ]
  },
  {
   "cell_type": "code",
   "execution_count": 2,
   "id": "64e13ff1-d32a-4d32-8205-451a6216e318",
   "metadata": {
    "tags": []
   },
   "outputs": [],
   "source": [
    "# Set the path for PyPoll Election Data csv\n",
    "\n",
    "PyPollcsv = os.path.join(\"..\", \"Resources\", \"election_data.csv\")"
   ]
  },
  {
   "cell_type": "code",
   "execution_count": 4,
   "id": "e19f5c43-acb1-430a-b92c-5cc3e383ad07",
   "metadata": {
    "tags": []
   },
   "outputs": [
    {
     "name": "stdout",
     "output_type": "stream",
     "text": [
      "Election Results\n",
      "----------------------------\n",
      "Total Votes: 369711\n",
      "----------------------------\n",
      "Charles Casper Stockham:  23.049% (85213)\n",
      "Diana DeGette:  73.812% (272892)\n",
      "Raymon Anthony Doane:  3.139% (11606)\n",
      "----------------------------\n",
      "Winner: Diana DeGette\n",
      "----------------------------\n",
      "\n"
     ]
    }
   ],
   "source": [
    "# Create variable lists \n",
    "\n",
    "count = 0\n",
    "candidates = {}\n",
    "vote_count = []\n",
    "vote_percent = []\n",
    "\n",
    "# with open(PyPollcsv, encoding='utf-8') as csvfile:\n",
    "with open(PyPollcsv) as csvfile:\n",
    "    csvreader = csv.reader(csvfile, delimiter=\",\")\n",
    "    next (csvreader)\n",
    "    \n",
    "    # Calculate the total number of votes cast \n",
    "    for row in csvreader:\n",
    "        count = count + 1\n",
    "        candidate_name = row[2]\n",
    "        try:\n",
    "            candidates[candidate_name] += 1 \n",
    "        except: \n",
    "            candidates[candidate_name] = 1 \n",
    "        \n",
    "# Create output for calculation of the total votes, percentage, and voter count for each candidate  \n",
    "text_output = \"Election Results\\n\"\n",
    "text_output += \"----------------------------\\n\"\n",
    "text_output += f\"Total Votes: {count}\\n\"\n",
    "text_output += \"----------------------------\\n\"\n",
    "\n",
    "winner = [\"\", 0]\n",
    "for candidate,votes in candidates.items(): \n",
    "    percentage = (votes / count) * 100\n",
    "    text_output += f\"{candidate}: {percentage: .3f}% ({votes})\\n\"\n",
    "    \n",
    "    if votes > winner [1]:\n",
    "        winner [1] = votes\n",
    "        winner [0] = candidate \n",
    "        \n",
    "text_output += \"----------------------------\\n\"\n",
    "text_output += f\"Winner: {winner [0]}\\n\"\n",
    "text_output += \"----------------------------\\n\"\n",
    "\n",
    "print (text_output) "
   ]
  },
  {
   "cell_type": "code",
   "execution_count": null,
   "id": "a945c484-c76f-4767-abbe-35ba3930a658",
   "metadata": {},
   "outputs": [],
   "source": []
  }
 ],
 "metadata": {
  "kernelspec": {
   "display_name": "Python 3 (ipykernel)",
   "language": "python",
   "name": "python3"
  },
  "language_info": {
   "codemirror_mode": {
    "name": "ipython",
    "version": 3
   },
   "file_extension": ".py",
   "mimetype": "text/x-python",
   "name": "python",
   "nbconvert_exporter": "python",
   "pygments_lexer": "ipython3",
   "version": "3.11.5"
  }
 },
 "nbformat": 4,
 "nbformat_minor": 5
}
