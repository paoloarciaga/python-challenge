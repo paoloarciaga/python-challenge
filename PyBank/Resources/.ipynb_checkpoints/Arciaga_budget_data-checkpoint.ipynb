{
 "cells": [
  {
   "cell_type": "code",
   "execution_count": 4,
   "id": "42616fb8-f022-4bb2-96be-8f163fe2fb4d",
   "metadata": {
    "tags": []
   },
   "outputs": [],
   "source": [
    "# Import modules os and csv\n",
    "\n",
    "import os\n",
    "import csv"
   ]
  },
  {
   "cell_type": "code",
   "execution_count": 5,
   "id": "1ad7dcce-3eab-49e1-a47e-7e3b8b5eb48e",
   "metadata": {
    "tags": []
   },
   "outputs": [],
   "source": [
    "# Set the path for PyBank Budget Data csv\n",
    "\n",
    "PyBankcsv = os.path.join(\"..\", \"Resources\", \"budget_data.csv\")\n"
   ]
  },
  {
   "cell_type": "code",
   "execution_count": 9,
   "id": "c1cd9518-85f8-4360-a416-f5faa47a3f10",
   "metadata": {
    "tags": []
   },
   "outputs": [
    {
     "name": "stdout",
     "output_type": "stream",
     "text": [
      "Financial Analysis\n",
      "----------------------------\n",
      "Total Months: 86\n",
      "Total: $22564198\n",
      "Average Change: $-8311.11\n",
      "Greatest Increase in Profits: Aug-16 ($1862002)\n",
      "Greatest Decrease in Profits: Feb-14 ($-1825558)\n"
     ]
    }
   ],
   "source": [
    "# Create variables\n",
    "                    \n",
    "count = 0\n",
    "total_profit = 0\n",
    "total_change_profits = 0                         \n",
    "initial_profit = 0 \n",
    "previous_profit = 0\n",
    "\n",
    "# Create increase & decrease variables\n",
    "greatest_increase = [\"\", float (\"-inf\")]\n",
    "greatest_decrease = [\"\", float (\"inf\")]\n",
    "            \n",
    "# Create a list to store changes in profit for each month\n",
    "\n",
    "profit_changes = []\n",
    "\n",
    "# with open(PyBankcsv, encoding='utf-8') as csvfile:\n",
    "with open(PyBankcsv) as csvfile:\n",
    "    csvreader = csv.reader(csvfile, delimiter=\",\")\n",
    "    next (csvreader)\n",
    "    \n",
    "    # Calculate total number of months included in the dataset \n",
    "    for row in csvreader:\n",
    "        count = count + 1\n",
    "        \n",
    "        # Calculate the net total amount of \"Profit/Losses\" over the entire period\n",
    "        current_profit = int (row [1]) \n",
    "        total_profit = total_profit + current_profit\n",
    "        \n",
    "        # Calculate the changes in \"Profit/Losses\" over the entire period \n",
    "        if count > 1: \n",
    "            change = current_profit - previous_profit\n",
    "            \n",
    "            # Append the change to the list\n",
    "            profit_changes.append(change)\n",
    "            \n",
    "            # Calculate the greatest increase in profits (date and amount) over the entire period \n",
    "            if change > greatest_increase [1]:\n",
    "                greatest_increase [1] = change\n",
    "                greatest_increase [0] = row [0]\n",
    "        \n",
    "            # Calculate the greatest decrease in profits (date and amount) over the entire period  \n",
    "            if change < greatest_decrease [1]:\n",
    "                greatest_decrease [1] = change\n",
    "                greatest_decrease [0] = row [0]\n",
    "        \n",
    "        # Update previous profit for next iteration \n",
    "        previous_profit = current_profit\n",
    "\n",
    "# Calculate the total changes in profit\n",
    "total_change_profits = sum(profit_changes)\n",
    "\n",
    "# Then calculate the average of those changes \n",
    "average_change = total_change_profits / len(profit_changes)\n",
    "        \n",
    "#Print the results      \n",
    "text_output = \"Financial Analysis\\n\" \n",
    "text_output += \"----------------------------\\n\"\n",
    "text_output += f\"Total Months: {count}\\n\"\n",
    "text_output += f\"Total: ${total_profit}\\n\"\n",
    "text_output += f\"Average Change: ${average_change: .2f}\\n\"\n",
    "text_output += f\"Greatest Increase in Profits: {greatest_increase[0]} (${greatest_increase[1]})\\n\"\n",
    "text_output += f\"Greatest Decrease in Profits: {greatest_decrease[0]} (${greatest_decrease[1]})\"\n",
    "\n",
    "print (text_output) \n",
    "\n",
    "with open(\"PyBank Analysis.txt\",\"w\") as outputFile: \n",
    "    outputFile.write (text_output) \n",
    "\n",
    "                 "
   ]
  },
  {
   "cell_type": "code",
   "execution_count": null,
   "id": "f68e8da7-9eaf-4d66-b29f-99b662074809",
   "metadata": {},
   "outputs": [],
   "source": []
  }
 ],
 "metadata": {
  "kernelspec": {
   "display_name": "Python 3 (ipykernel)",
   "language": "python",
   "name": "python3"
  },
  "language_info": {
   "codemirror_mode": {
    "name": "ipython",
    "version": 3
   },
   "file_extension": ".py",
   "mimetype": "text/x-python",
   "name": "python",
   "nbconvert_exporter": "python",
   "pygments_lexer": "ipython3",
   "version": "3.11.5"
  }
 },
 "nbformat": 4,
 "nbformat_minor": 5
}
